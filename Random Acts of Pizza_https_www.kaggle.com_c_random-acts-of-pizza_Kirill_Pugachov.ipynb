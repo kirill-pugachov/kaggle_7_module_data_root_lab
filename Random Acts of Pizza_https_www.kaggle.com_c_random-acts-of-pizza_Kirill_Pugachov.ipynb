{
 "cells": [
  {
   "cell_type": "markdown",
   "metadata": {},
   "source": [
    "Задача:\n",
    "предсказать получение пиццы, человеком оставившим запрос на сайте Reddit в сообществе Random Acts of Pizza\n",
    "- Исходные данные файл train.json\n",
    "- Тестовые данные test.json\n",
    "- Оценка качества по метрике area under the ROC curve\n",
    "- Образец файла для выгрузки на Каггл"
   ]
  },
  {
   "cell_type": "code",
   "execution_count": 1,
   "metadata": {
    "collapsed": true
   },
   "outputs": [],
   "source": [
    "from contextlib import redirect_stdout\n",
    "\n",
    "import pandas as pd\n",
    "import numpy as np\n",
    "from pandas.plotting import scatter_matrix\n",
    "\n",
    "import matplotlib.pyplot as plt\n",
    "import seaborn as sns\n",
    "%matplotlib inline\n",
    "\n",
    "from sklearn.metrics import accuracy_score, log_loss, roc_auc_score\n",
    "\n",
    "from sklearn import preprocessing\n",
    "from sklearn import ensemble\n",
    "from sklearn.ensemble import VotingClassifier\n",
    "\n",
    "from sklearn.model_selection import train_test_split\n",
    "from sklearn.model_selection import cross_val_score\n",
    "from sklearn.model_selection import StratifiedShuffleSplit\n",
    "\n",
    "from sklearn.linear_model import SGDClassifier, LogisticRegression, LogisticRegressionCV\n",
    "from sklearn.naive_bayes import GaussianNB\n",
    "from sklearn.neural_network import MLPClassifier\n",
    "from sklearn.neighbors import KNeighborsClassifier\n",
    "from sklearn.svm import SVC, LinearSVR\n",
    "from sklearn.tree import DecisionTreeClassifier\n",
    "from sklearn.discriminant_analysis import LinearDiscriminantAnalysis, QuadraticDiscriminantAnalysis"
   ]
  },
  {
   "cell_type": "markdown",
   "metadata": {},
   "source": [
    "Согласно приложенного к данным документа http://cs.stanford.edu/~althoff/raop-dataset/altruistic_requests_icwsm.pdf важными факторами является содержание обращения (текстовые признаки) раскрывающее причины просьбы, а именно:\n",
    "- наличие слов вежливости;\n",
    "- упоминание семьи;\n",
    "- ситуация на работе;\n",
    "- упоминание денег;\n",
    "- благодарность пользователя;\n",
    "- упоминание еды;\n",
    "- упоминание времени;\n",
    "- отсутствие ругательств.\n",
    "\n",
    "Исходя из этого формируются словари для перекодирования текстовых признаков в цифровые."
   ]
  },
  {
   "cell_type": "code",
   "execution_count": 2,
   "metadata": {
    "collapsed": true
   },
   "outputs": [],
   "source": [
    "negative_list = ['give me a break',\n",
    " 'bitch',\n",
    " 'fuck off',\n",
    " 'son of a bitch',\n",
    " 'fucking shit',\n",
    " 'dumb',\n",
    " 'what the fucking hell',\n",
    " 'jerk',\n",
    " 'poop',\n",
    " 'prick',\n",
    " 'sucking',\n",
    " 'fucking idiot',\n",
    " 'faggot',\n",
    " 'assholes',\n",
    " 'loser',\n",
    " 'homo',\n",
    " 'sucked',\n",
    " 'fuck up',\n",
    " 'asscrack',\n",
    " 'grammar nazi',\n",
    " 'crap',\n",
    " 'retard',\n",
    " 'ass',\n",
    " 'stupid',\n",
    " 'coz',\n",
    " 'slut',\n",
    " 'stupid',\n",
    " 'dick',\n",
    " 'asses',\n",
    " 'fucked',\n",
    " 'shit',\n",
    " 'asshole',\n",
    " 'nerd',\n",
    " 'idiot',\n",
    " 'no way',\n",
    " 'sucks',\n",
    " 'fuck around',\n",
    " 'gay',\n",
    " 'motherfucker',\n",
    " \"fuck\",\n",
    " 'fucking',\n",
    " 'fool',\n",
    " 'nigger',\n",
    " 'freak',\n",
    " 'fucking',\n",
    " 'noob',\n",
    " 'hooker',\n",
    " 'bumfuck',\n",
    " 'cunt',\n",
    " 'kiss my ass',\n",
    " 'douchebag',\n",
    " 'fuck you',\n",
    " 'innit',\n",
    " 'whore',\n",
    " 'damn',\n",
    " 'dafaq',\n",
    " 'fool',\n",
    " 'shit',\n",
    " 'fucking',\n",
    " 'bastard',\n",
    " 'pussy',\n",
    " 'are you nuts',\n",
    " 'ass',\n",
    " 'fuck',\n",
    " 'bullshit',\n",
    " 'sucker',\n",
    " 'bastards',\n",
    " 'screw it',\n",
    " 'fuck with']"
   ]
  },
  {
   "cell_type": "code",
   "execution_count": 3,
   "metadata": {
    "collapsed": true
   },
   "outputs": [],
   "source": [
    "politeness_list = ['thanlful',\n",
    " 'pardon',\n",
    " 'excuse',\n",
    " 'kindfavor',\n",
    " 'blessing',\n",
    " 'thanx',\n",
    " 'could',\n",
    " 'kind',\n",
    " 'hope',\n",
    " 'anyone',\n",
    " 'thankful',\n",
    " 'help',\n",
    " 'course',\n",
    " 'certainly',\n",
    " 'thakyou',\n",
    " 'thankfully',\n",
    " 'sorry',\n",
    " 'slight',\n",
    " 'advance',\n",
    " 'thank you',\n",
    " 'thx',\n",
    " 'slightly',\n",
    " 'wonderful',\n",
    " 'hope',\n",
    " 'reading',\n",
    " 'perhaps',\n",
    " 'anything',\n",
    " 'would',\n",
    " 'bless',\n",
    " 'seem',\n",
    " 'grateful',\n",
    " 'thank',\n",
    " 'bit',\n",
    " 'everyone',\n",
    " 'blessed',\n",
    " 'excuse',\n",
    " 'wonderfully',\n",
    " 'blessings',\n",
    " 'thanks',\n",
    " 'blessins',\n",
    " 'thankyou']"
   ]
  },
  {
   "cell_type": "code",
   "execution_count": 4,
   "metadata": {
    "collapsed": true
   },
   "outputs": [],
   "source": [
    "reciprocity_list = ['share the love',\n",
    " 'repay in kind',\n",
    " 'return a favor',\n",
    " 'return kindness',\n",
    " 'repay the kindness',\n",
    " 'pay it forward',\n",
    " 'share kindness']"
   ]
  },
  {
   "cell_type": "code",
   "execution_count": 5,
   "metadata": {
    "collapsed": true
   },
   "outputs": [],
   "source": [
    "driver_list = [\n",
    " 'burger',\n",
    " 'burgers',\n",
    " 'yogurt',\n",
    " 'someone',\n",
    " 'couple',\n",
    " 'help',\n",
    " 'rice',\n",
    " 'luck',\n",
    " 'anything',\n",
    " 'ramen',\n",
    " 'today',\n",
    " 'food',\n",
    " 'school',\n",
    " 'pizza',\n",
    " 'favor',\n",
    " 'end',\n",
    " 'stamp',\n",
    " 'grocery',\n",
    " 'vegetables',\n",
    " 'vegetable',\n",
    " 'vegitarian',\n",
    " 'vegetarians',\n",
    " 'vegans',\n",
    " 'vegan',\n",
    " 'house',\n",
    " 'anyone']"
   ]
  },
  {
   "cell_type": "code",
   "execution_count": 6,
   "metadata": {
    "collapsed": true
   },
   "outputs": [],
   "source": [
    "family_list = ['wife',\n",
    " 'boyfriend',\n",
    " 'boyfriendly',\n",
    " 'boyfriends',\n",
    " 'boy',\n",
    " 'boys',\n",
    " 'brother',\n",
    " 'brothers',\n",
    " 'dad',\n",
    " 'mum',\n",
    " 'husband',\n",
    " 'parent',\n",
    " 'son',\n",
    " 'mother',\n",
    " 'daughter',\n",
    " 'mom',\n",
    " 'family',\n",
    " 'father',\n",
    " 'parents']"
   ]
  },
  {
   "cell_type": "code",
   "execution_count": 7,
   "metadata": {
    "collapsed": true
   },
   "outputs": [],
   "source": [
    "money_list = ['bills',\n",
    " 'check',\n",
    " 'buy',\n",
    " 'budget',\n",
    " 'cash',\n",
    " 'payed',\n",
    " 'budgeting',\n",
    " 'ﬁnancial',\n",
    " 'spent',\n",
    " 'paycheck',\n",
    " 'budgeted',\n",
    " 'credit',\n",
    " 'current',\n",
    " 'money',\n",
    " 'bucks',\n",
    " 'bill',\n",
    " 'unpaid',\n",
    " 'rent',\n",
    " 'loan',\n",
    " 'deposit',\n",
    " 'poor',\n",
    " 'visa',\n",
    " 'account',\n",
    " 'due',\n",
    " 'dollar',\n",
    " 'paid',\n",
    " 'broke',\n",
    " 'bank',\n",
    " 'still',\n",
    " 'usd',\n",
    " 'dollars']"
   ]
  },
  {
   "cell_type": "code",
   "execution_count": 8,
   "metadata": {
    "collapsed": true
   },
   "outputs": [],
   "source": [
    "time_list = ['tonight',\n",
    " 'time',\n",
    " 'week',\n",
    " 'month',\n",
    " 'Friday',\n",
    " 'today',\n",
    " 'day',\n",
    " 'now',\n",
    " 'after',\n",
    " 'till',\n",
    " 'evening',\n",
    " 'when',\n",
    " 'year',\n",
    " 'tomorrow',\n",
    " 'tonight',\n",
    " 'hour',\n",
    " 'years',\n",
    " 'before',\n",
    " 'long',\n",
    " 'until',\n",
    " 'yesterday',\n",
    " 'morning',\n",
    " 'soon',\n",
    " 'past',\n",
    " 'ﬁrst',\n",
    " 'while',\n",
    " 'never',\n",
    " 'next',\n",
    " 'last',\n",
    " 'ago',\n",
    " 'night']"
   ]
  },
  {
   "cell_type": "code",
   "execution_count": 9,
   "metadata": {
    "collapsed": true
   },
   "outputs": [],
   "source": [
    "job_list = ['employment',\n",
    " 'ﬁred',\n",
    " 'job',\n",
    " 'interview',\n",
    " 'work',\n",
    " 'hired',\n",
    " 'hire',\n",
    " 'unemployment']"
   ]
  },
  {
   "cell_type": "code",
   "execution_count": 10,
   "metadata": {
    "collapsed": true
   },
   "outputs": [],
   "source": [
    "student_list = ['studying',\n",
    " 'project',\n",
    " 'study',\n",
    " 'tuition',\n",
    " 'student',\n",
    " 'ﬁnals',\n",
    " 'college',\n",
    " 'semester',\n",
    " 'university',\n",
    " 'class',\n",
    " 'school',\n",
    " 'roommate',\n",
    " 'dorm']"
   ]
  },
  {
   "cell_type": "code",
   "execution_count": 11,
   "metadata": {
    "collapsed": true
   },
   "outputs": [],
   "source": [
    "craving_list = ['movie',\n",
    " 'celebrate',\n",
    " 'games',\n",
    " 'beer',\n",
    " 'drunk',\n",
    " 'celebrating',\n",
    " 'friend',\n",
    " 'crave',\n",
    " 'invite',\n",
    " 'boyfriend',\n",
    " 'invited',\n",
    " 'girlfriend',\n",
    " 'date',\n",
    " 'drinks',\n",
    " 'birthday',\n",
    " 'wasted',\n",
    " 'craving',\n",
    " 'party',\n",
    " 'game']"
   ]
  },
  {
   "cell_type": "code",
   "execution_count": 12,
   "metadata": {
    "collapsed": true
   },
   "outputs": [],
   "source": [
    "data_path = 'Data//'\n",
    "train_data = 'train.json'\n",
    "test_data = 'test.json'"
   ]
  },
  {
   "cell_type": "markdown",
   "metadata": {},
   "source": [
    "Формируем дополнительные признаки на основе имеющихся данных с учетом различий между тестовыми и обучающими данными"
   ]
  },
  {
   "cell_type": "code",
   "execution_count": 13,
   "metadata": {
    "collapsed": true
   },
   "outputs": [],
   "source": [
    "def get_data(data_path, train_data):\n",
    "    return data_path + train_data\n",
    "\n",
    "\n",
    "def make_frame(train_url):\n",
    "    df = pd.read_json(train_url)\n",
    "    return df"
   ]
  },
  {
   "cell_type": "code",
   "execution_count": 14,
   "metadata": {
    "collapsed": true
   },
   "outputs": [],
   "source": [
    "def group_selector(train_df, k=0):\n",
    "    neg_bag_of_words = list()\n",
    "    neg_count = dict()\n",
    "    for ind in train_df[train_df.requester_received_pizza == k].index:\n",
    "        neg_bag_of_words += train_df.requester_subreddits_at_request[ind]\n",
    "        for word in train_df.requester_subreddits_at_request[ind]:\n",
    "            if word in neg_count:\n",
    "                neg_count[word] += 1\n",
    "            else:\n",
    "                neg_count[word] = 1\n",
    "    return neg_count\n",
    "\n",
    "\n",
    "def unique_group(train_df):\n",
    "    neg_count = group_selector(train_df, k=0)\n",
    "    res_count = group_selector(train_df, k=1)\n",
    "    unique_group = res_count.keys() - neg_count.keys()\n",
    "    return unique_group"
   ]
  },
  {
   "cell_type": "code",
   "execution_count": 15,
   "metadata": {
    "collapsed": true
   },
   "outputs": [],
   "source": [
    "#Какая длинна текста с просьбой о пицце\n",
    "def text_length(raw):\n",
    "    if len(raw.split()) > 1:\n",
    "\n",
    "        return len(raw.split())\n",
    "    else:\n",
    "        return 0\n",
    "\n",
    "#Есть ли в тексте фотографии\n",
    "def photos(raw):\n",
    "    return raw.count('http://i.imgur.com/')\n",
    "\n",
    "#Был ли отредактирован текст просителем пиццы\n",
    "def edited_text(raw):\n",
    "    word_list = raw.split()\n",
    "    if 'EDIT' in word_list:\n",
    "        return 1\n",
    "    else:\n",
    "        return 0\n",
    "\n",
    "#На основе словарей считем число вхождений различных групп слов\n",
    "def text_produce(raw, terms_list):\n",
    "    result = 0\n",
    "    word_list = raw.lower()\n",
    "    for item in set(terms_list):\n",
    "        if item in word_list:\n",
    "            result += 1\n",
    "    if result > 0:\n",
    "            return result\n",
    "    else:\n",
    "        return 0"
   ]
  },
  {
   "cell_type": "code",
   "execution_count": 16,
   "metadata": {
    "collapsed": true
   },
   "outputs": [],
   "source": [
    "#загружаем данные из файлов тренировочные и тестовые    \n",
    "train_url = get_data(data_path, train_data)\n",
    "train_df = make_frame(train_url)\n",
    "\n",
    "test_url = get_data(data_path, test_data)\n",
    "test_df = make_frame(test_url)"
   ]
  },
  {
   "cell_type": "code",
   "execution_count": 17,
   "metadata": {},
   "outputs": [
    {
     "data": {
      "text/plain": [
       "Index(['giver_username_if_known',\n",
       "       'number_of_downvotes_of_request_at_retrieval',\n",
       "       'number_of_upvotes_of_request_at_retrieval', 'post_was_edited',\n",
       "       'request_id', 'request_number_of_comments_at_retrieval', 'request_text',\n",
       "       'request_text_edit_aware', 'request_title',\n",
       "       'requester_account_age_in_days_at_request',\n",
       "       'requester_account_age_in_days_at_retrieval',\n",
       "       'requester_days_since_first_post_on_raop_at_request',\n",
       "       'requester_days_since_first_post_on_raop_at_retrieval',\n",
       "       'requester_number_of_comments_at_request',\n",
       "       'requester_number_of_comments_at_retrieval',\n",
       "       'requester_number_of_comments_in_raop_at_request',\n",
       "       'requester_number_of_comments_in_raop_at_retrieval',\n",
       "       'requester_number_of_posts_at_request',\n",
       "       'requester_number_of_posts_at_retrieval',\n",
       "       'requester_number_of_posts_on_raop_at_request',\n",
       "       'requester_number_of_posts_on_raop_at_retrieval',\n",
       "       'requester_number_of_subreddits_at_request', 'requester_received_pizza',\n",
       "       'requester_subreddits_at_request',\n",
       "       'requester_upvotes_minus_downvotes_at_request',\n",
       "       'requester_upvotes_minus_downvotes_at_retrieval',\n",
       "       'requester_upvotes_plus_downvotes_at_request',\n",
       "       'requester_upvotes_plus_downvotes_at_retrieval', 'requester_user_flair',\n",
       "       'requester_username', 'unix_timestamp_of_request',\n",
       "       'unix_timestamp_of_request_utc'],\n",
       "      dtype='object')"
      ]
     },
     "execution_count": 17,
     "metadata": {},
     "output_type": "execute_result"
    }
   ],
   "source": [
    "train_df.columns"
   ]
  },
  {
   "cell_type": "code",
   "execution_count": 18,
   "metadata": {},
   "outputs": [
    {
     "data": {
      "text/plain": [
       "Index(['giver_username_if_known', 'request_id', 'request_text_edit_aware',\n",
       "       'request_title', 'requester_account_age_in_days_at_request',\n",
       "       'requester_days_since_first_post_on_raop_at_request',\n",
       "       'requester_number_of_comments_at_request',\n",
       "       'requester_number_of_comments_in_raop_at_request',\n",
       "       'requester_number_of_posts_at_request',\n",
       "       'requester_number_of_posts_on_raop_at_request',\n",
       "       'requester_number_of_subreddits_at_request',\n",
       "       'requester_subreddits_at_request',\n",
       "       'requester_upvotes_minus_downvotes_at_request',\n",
       "       'requester_upvotes_plus_downvotes_at_request', 'requester_username',\n",
       "       'unix_timestamp_of_request', 'unix_timestamp_of_request_utc'],\n",
       "      dtype='object')"
      ]
     },
     "execution_count": 18,
     "metadata": {},
     "output_type": "execute_result"
    }
   ],
   "source": [
    "test_df.columns"
   ]
  },
  {
   "cell_type": "code",
   "execution_count": 19,
   "metadata": {
    "collapsed": true
   },
   "outputs": [],
   "source": [
    "#Отбираем из тренировочных данных признаки/колонки имеющиеся в тестовых\n",
    "for col in train_df.columns:\n",
    "    if col != 'requester_received_pizza':\n",
    "        if col not in test_df.columns:\n",
    "            del train_df[col]"
   ]
  },
  {
   "cell_type": "code",
   "execution_count": 20,
   "metadata": {},
   "outputs": [
    {
     "data": {
      "text/plain": [
       "Index(['giver_username_if_known', 'request_id', 'request_text_edit_aware',\n",
       "       'request_title', 'requester_account_age_in_days_at_request',\n",
       "       'requester_days_since_first_post_on_raop_at_request',\n",
       "       'requester_number_of_comments_at_request',\n",
       "       'requester_number_of_comments_in_raop_at_request',\n",
       "       'requester_number_of_posts_at_request',\n",
       "       'requester_number_of_posts_on_raop_at_request',\n",
       "       'requester_number_of_subreddits_at_request', 'requester_received_pizza',\n",
       "       'requester_subreddits_at_request',\n",
       "       'requester_upvotes_minus_downvotes_at_request',\n",
       "       'requester_upvotes_plus_downvotes_at_request', 'requester_username',\n",
       "       'unix_timestamp_of_request', 'unix_timestamp_of_request_utc'],\n",
       "      dtype='object')"
      ]
     },
     "execution_count": 20,
     "metadata": {},
     "output_type": "execute_result"
    }
   ],
   "source": [
    "train_df.columns"
   ]
  },
  {
   "cell_type": "code",
   "execution_count": 21,
   "metadata": {},
   "outputs": [
    {
     "name": "stdout",
     "output_type": "stream",
     "text": [
      "Уникальных групп на сайте у получателей пиццы 1072\n"
     ]
    }
   ],
   "source": [
    "#Отбираем группы в которых находятся только получатели пиццы в обучающей выборке\n",
    "positive_result_groups = unique_group(train_df)\n",
    "print('Уникальных групп на сайте у получателей пиццы', len(positive_result_groups))"
   ]
  },
  {
   "cell_type": "code",
   "execution_count": 22,
   "metadata": {
    "collapsed": true
   },
   "outputs": [],
   "source": [
    "#Если указано имя дарителя пиццы ставим 1, если нет 0\n",
    "train_df.loc[train_df.giver_username_if_known == 'N/A', 'giver_username_if_known'] = 0\n",
    "train_df.loc[train_df.giver_username_if_known != 0, 'giver_username_if_known'] = 1"
   ]
  },
  {
   "cell_type": "code",
   "execution_count": 23,
   "metadata": {
    "collapsed": true
   },
   "outputs": [],
   "source": [
    "#Переводим в из объекта в цифровой тип\n",
    "train_df['giver_username_if_known'] = pd.to_numeric(train_df['giver_username_if_known'], errors='coerse')\n",
    "#Переводим из True-False в 1-0 по условиям задачи\n",
    "train_df['requester_received_pizza'] = (train_df['requester_received_pizza'] == True).astype(int)"
   ]
  },
  {
   "cell_type": "code",
   "execution_count": 24,
   "metadata": {
    "collapsed": true
   },
   "outputs": [],
   "source": [
    "#Вместо двух колонок времени, формируем одну - есть \"ошибка\" в настройках компьютера пользователя или нет\n",
    "train_df['time_delta'] = train_df['unix_timestamp_of_request'] - train_df['unix_timestamp_of_request_utc']\n",
    "#Удаляем ненужные колонки времени\n",
    "remove = ['unix_timestamp_of_request', 'unix_timestamp_of_request_utc']\n",
    "for rem in remove:\n",
    "    del train_df[rem]"
   ]
  },
  {
   "cell_type": "code",
   "execution_count": 25,
   "metadata": {
    "collapsed": true
   },
   "outputs": [],
   "source": [
    "#Размечаем группы в которых находятся только получатели пиццы в обучающей выборке\n",
    "for gr in positive_result_groups:\n",
    "    train_df[gr] = 0\n",
    "for ind in train_df[train_df.requester_received_pizza == 1].index:\n",
    "    for word in train_df.requester_subreddits_at_request[ind]:\n",
    "        if word in positive_result_groups:\n",
    "            train_df.at[ind, word] = 1"
   ]
  },
  {
   "cell_type": "code",
   "execution_count": 26,
   "metadata": {
    "collapsed": true
   },
   "outputs": [],
   "source": [
    "#Формируем дополнительные признаки на основе имеющегося текста из 'request_text_edit_aware'\n",
    "train_df['text_length'] = train_df['request_text_edit_aware'].apply(lambda x: text_length(x))\n",
    "train_df['title_length'] = train_df['request_title'].apply(lambda x: text_length(x))\n",
    "train_df['photos_number'] = train_df['request_text_edit_aware'].apply(lambda x: photos(x))\n",
    "train_df['text_was_edited'] = train_df['request_text_edit_aware'].apply(lambda x: edited_text(x))\n",
    "train_df['negative_words'] = train_df['request_text_edit_aware'].apply(lambda x: text_produce(x, negative_list))\n",
    "train_df['politeness_words'] = train_df['request_text_edit_aware'].apply(lambda x: text_produce(x, politeness_list))\n",
    "train_df['reciprocity_words'] = train_df['request_text_edit_aware'].apply(lambda x: text_produce(x, reciprocity_list))\n",
    "train_df['driver_words'] = train_df['request_text_edit_aware'].apply(lambda x: text_produce(x, driver_list))\n",
    "train_df['job_words'] = train_df['request_text_edit_aware'].apply(lambda x: text_produce(x, job_list))\n",
    "train_df['money_words'] = train_df['request_text_edit_aware'].apply(lambda x: text_produce(x, money_list))\n",
    "train_df['student_words'] = train_df['request_text_edit_aware'].apply(lambda x: text_produce(x, student_list))\n",
    "train_df['craving_words'] = train_df['request_text_edit_aware'].apply(lambda x: text_produce(x, craving_list))\n",
    "train_df['time_words'] = train_df['request_text_edit_aware'].apply(lambda x: text_produce(x, time_list))\n",
    "train_df['family_words'] = train_df['request_text_edit_aware'].apply(lambda x: text_produce(x, family_list))"
   ]
  },
  {
   "cell_type": "code",
   "execution_count": 27,
   "metadata": {
    "collapsed": true
   },
   "outputs": [],
   "source": [
    "#Определяем числовые колонки и формируем тренировочный фрейм для работы\n",
    "numerical_columns   = [c for c in train_df.columns if train_df[c].dtype.name != 'object']\n",
    "df_res = train_df[numerical_columns]"
   ]
  },
  {
   "cell_type": "code",
   "execution_count": 28,
   "metadata": {
    "collapsed": true
   },
   "outputs": [],
   "source": [
    "#Удаляем метку класса из тренировочного фрейма\n",
    "\n",
    "y = df_res['requester_received_pizza']\n",
    "del df_res['requester_received_pizza']"
   ]
  },
  {
   "cell_type": "code",
   "execution_count": 29,
   "metadata": {
    "collapsed": true
   },
   "outputs": [],
   "source": [
    "#Формируем функцию проверки классификаторов\n",
    "def classifiers_evaluation(df_res, y):\n",
    "\n",
    "    classifiers = [\n",
    "    KNeighborsClassifier(3),\n",
    "    SVC(probability=True),\n",
    "    DecisionTreeClassifier(),\n",
    "    ensemble.RandomForestClassifier(),\n",
    "    ensemble.AdaBoostClassifier(),\n",
    "    ensemble.GradientBoostingClassifier(),\n",
    "    GaussianNB(),\n",
    "    LinearDiscriminantAnalysis(),\n",
    "    QuadraticDiscriminantAnalysis(),\n",
    "    LogisticRegression(),\n",
    "    MLPClassifier(),\n",
    "    SGDClassifier(loss='log', max_iter=1000),\n",
    "    LogisticRegressionCV()]\n",
    "\n",
    "    log_cols = [\"Classifier\", \"ROC_AUC score\"]\n",
    "    log = pd.DataFrame(columns=log_cols)\n",
    "\n",
    "    quantile = preprocessing.QuantileTransformer()\n",
    "    X = quantile.fit_transform(df_res)\n",
    "\n",
    "    sss = StratifiedShuffleSplit(n_splits=10, test_size=0.1, random_state=0)\n",
    "\n",
    "    acc_dict = {}\n",
    "\n",
    "    for train_index, test_index in sss.split(X, y):\n",
    "        X_train, X_test = X[train_index], X[test_index]\n",
    "        y_train, y_test = y[train_index], y[test_index]\n",
    "\n",
    "        for clf in classifiers:\n",
    "            name = clf.__class__.__name__\n",
    "            clf.fit(X_train, y_train)\n",
    "            train_predictions = clf.predict(X_test)\n",
    "            acc = roc_auc_score(y_test, train_predictions)\n",
    "\n",
    "\n",
    "            if name in acc_dict:\n",
    "                acc_dict[name] += acc\n",
    "            else:\n",
    "                acc_dict[name] = acc\n",
    "\n",
    "    for clf in acc_dict:\n",
    "        acc_dict[clf] = acc_dict[clf] / 10.0\n",
    "        log_entry = pd.DataFrame([[clf, acc_dict[clf]]], columns=log_cols)\n",
    "        log = log.append(log_entry)\n",
    "\n",
    "    print(log)\n",
    "\n",
    "    plt.xlabel('ROC_AUC score')\n",
    "    plt.title('Classifier ROC_AUC score')\n",
    "    sns.set(rc={'figure.figsize':(18,12)})\n",
    "    sns.set_color_codes(\"muted\")\n",
    "    sns.barplot(x='ROC_AUC score', y='Classifier', data=log, color=\"b\")"
   ]
  },
  {
   "cell_type": "code",
   "execution_count": 30,
   "metadata": {},
   "outputs": [
    {
     "name": "stderr",
     "output_type": "stream",
     "text": [
      "C:\\Users\\User\\Anaconda3\\lib\\site-packages\\sklearn\\discriminant_analysis.py:388: UserWarning: Variables are collinear.\n",
      "  warnings.warn(\"Variables are collinear.\")\n",
      "C:\\Users\\User\\Anaconda3\\lib\\site-packages\\sklearn\\discriminant_analysis.py:682: UserWarning: Variables are collinear\n",
      "  warnings.warn(\"Variables are collinear\")\n",
      "C:\\Users\\User\\Anaconda3\\lib\\site-packages\\sklearn\\discriminant_analysis.py:388: UserWarning: Variables are collinear.\n",
      "  warnings.warn(\"Variables are collinear.\")\n",
      "C:\\Users\\User\\Anaconda3\\lib\\site-packages\\sklearn\\discriminant_analysis.py:682: UserWarning: Variables are collinear\n",
      "  warnings.warn(\"Variables are collinear\")\n",
      "C:\\Users\\User\\Anaconda3\\lib\\site-packages\\sklearn\\discriminant_analysis.py:388: UserWarning: Variables are collinear.\n",
      "  warnings.warn(\"Variables are collinear.\")\n",
      "C:\\Users\\User\\Anaconda3\\lib\\site-packages\\sklearn\\discriminant_analysis.py:682: UserWarning: Variables are collinear\n",
      "  warnings.warn(\"Variables are collinear\")\n",
      "C:\\Users\\User\\Anaconda3\\lib\\site-packages\\sklearn\\discriminant_analysis.py:388: UserWarning: Variables are collinear.\n",
      "  warnings.warn(\"Variables are collinear.\")\n",
      "C:\\Users\\User\\Anaconda3\\lib\\site-packages\\sklearn\\discriminant_analysis.py:682: UserWarning: Variables are collinear\n",
      "  warnings.warn(\"Variables are collinear\")\n",
      "C:\\Users\\User\\Anaconda3\\lib\\site-packages\\sklearn\\discriminant_analysis.py:388: UserWarning: Variables are collinear.\n",
      "  warnings.warn(\"Variables are collinear.\")\n",
      "C:\\Users\\User\\Anaconda3\\lib\\site-packages\\sklearn\\discriminant_analysis.py:682: UserWarning: Variables are collinear\n",
      "  warnings.warn(\"Variables are collinear\")\n",
      "C:\\Users\\User\\Anaconda3\\lib\\site-packages\\sklearn\\discriminant_analysis.py:388: UserWarning: Variables are collinear.\n",
      "  warnings.warn(\"Variables are collinear.\")\n",
      "C:\\Users\\User\\Anaconda3\\lib\\site-packages\\sklearn\\discriminant_analysis.py:682: UserWarning: Variables are collinear\n",
      "  warnings.warn(\"Variables are collinear\")\n",
      "C:\\Users\\User\\Anaconda3\\lib\\site-packages\\sklearn\\discriminant_analysis.py:388: UserWarning: Variables are collinear.\n",
      "  warnings.warn(\"Variables are collinear.\")\n",
      "C:\\Users\\User\\Anaconda3\\lib\\site-packages\\sklearn\\discriminant_analysis.py:682: UserWarning: Variables are collinear\n",
      "  warnings.warn(\"Variables are collinear\")\n",
      "C:\\Users\\User\\Anaconda3\\lib\\site-packages\\sklearn\\discriminant_analysis.py:388: UserWarning: Variables are collinear.\n",
      "  warnings.warn(\"Variables are collinear.\")\n",
      "C:\\Users\\User\\Anaconda3\\lib\\site-packages\\sklearn\\discriminant_analysis.py:682: UserWarning: Variables are collinear\n",
      "  warnings.warn(\"Variables are collinear\")\n",
      "C:\\Users\\User\\Anaconda3\\lib\\site-packages\\sklearn\\discriminant_analysis.py:388: UserWarning: Variables are collinear.\n",
      "  warnings.warn(\"Variables are collinear.\")\n",
      "C:\\Users\\User\\Anaconda3\\lib\\site-packages\\sklearn\\discriminant_analysis.py:682: UserWarning: Variables are collinear\n",
      "  warnings.warn(\"Variables are collinear\")\n",
      "C:\\Users\\User\\Anaconda3\\lib\\site-packages\\sklearn\\discriminant_analysis.py:388: UserWarning: Variables are collinear.\n",
      "  warnings.warn(\"Variables are collinear.\")\n",
      "C:\\Users\\User\\Anaconda3\\lib\\site-packages\\sklearn\\discriminant_analysis.py:682: UserWarning: Variables are collinear\n",
      "  warnings.warn(\"Variables are collinear\")\n"
     ]
    },
    {
     "name": "stdout",
     "output_type": "stream",
     "text": [
      "                      Classifier  ROC_AUC score\n",
      "0           KNeighborsClassifier       0.634487\n",
      "0                            SVC       0.500000\n",
      "0         DecisionTreeClassifier       0.648828\n",
      "0         RandomForestClassifier       0.644355\n",
      "0             AdaBoostClassifier       0.679478\n",
      "0     GradientBoostingClassifier       0.672767\n",
      "0                     GaussianNB       0.704545\n",
      "0     LinearDiscriminantAnalysis       0.599672\n",
      "0  QuadraticDiscriminantAnalysis       0.703535\n",
      "0             LogisticRegression       0.666733\n",
      "0                  MLPClassifier       0.682376\n",
      "0                  SGDClassifier       0.665710\n",
      "0           LogisticRegressionCV       0.677831\n"
     ]
    },
    {
     "data": {
      "image/png": "[encoded data removed]",
      "text/plain": [
       "<matplotlib.figure.Figure at 0x1b3a9b8d198>"
      ]
     },
     "metadata": {},
     "output_type": "display_data"
    }
   ],
   "source": [
    "#Проверяем классификаторы на эффективность\n",
    "classifiers_evaluation(df_res, y)"
   ]
  },
  {
   "cell_type": "code",
   "execution_count": 31,
   "metadata": {
    "collapsed": true
   },
   "outputs": [],
   "source": [
    "#Формируем ансамбль\n",
    "def soft_voting(df_res, y):\n",
    "    print('\\n')\n",
    "    print('SOFT VOTING')\n",
    "\n",
    "    quantile = preprocessing.QuantileTransformer()\n",
    "    df_res = quantile.fit_transform(df_res)\n",
    "\n",
    "    clf1 = ensemble.AdaBoostClassifier()\n",
    "    clf2 = MLPClassifier()\n",
    "    clf3 = ensemble.GradientBoostingClassifier()\n",
    "    clf4 = SGDClassifier(loss='log', max_iter=1000)\n",
    "    clf5 = LogisticRegression()\n",
    "    clf6 = LogisticRegressionCV()\n",
    "    clf7 = QuadraticDiscriminantAnalysis()\n",
    "    clf8 = GaussianNB()\n",
    "    clf9 = LinearDiscriminantAnalysis()\n",
    "    clf10 = SVC(probability=True)\n",
    "    eclf = VotingClassifier(estimators=[('ada', clf1), ('mlpc', clf2),\n",
    "                                        ('gbs', clf3), ('sgdc', clf4),\n",
    "                                        ('lgr', clf5), ('lrcv', clf6),\n",
    "                                        ('qda', clf7), ('gnb', clf8),\n",
    "                                        ('lda', clf9), ('svc', clf10)],\n",
    "                                voting='soft', weights=[1,1,1,1,1,1,1,1,1,1])\n",
    "\n",
    "    for clf, label in zip([clf1, clf2, clf3, clf4, clf5, clf6, clf7, clf8, clf9, clf10, eclf],\n",
    "                          ['AdaBoostClassifier', 'MLPClassifier',\n",
    "                           'GradientBoosting', 'SGDClassifier',\n",
    "                           'LogisticRegression', 'LogisticRegressionCV',\n",
    "                           'QuadraticDiscriminantAnalysis', 'GaussianNB',\n",
    "                           'LinearDiscriminantAnalysis', 'SVC', 'Ensemble']):\n",
    "        scores = cross_val_score(clf, df_res, y, cv=5, scoring='roc_auc') #, scoring='roc_auc'\n",
    "        print(\"ROC_AUC scoring: %0.5f (+/- %0.5f) [%s]\" % (scores.mean(), scores.std(), label))\n",
    "    return eclf"
   ]
  },
  {
   "cell_type": "code",
   "execution_count": 32,
   "metadata": {},
   "outputs": [
    {
     "name": "stdout",
     "output_type": "stream",
     "text": [
      "\n",
      "\n",
      "SOFT VOTING\n",
      "ROC_AUC scoring: 0.74530 (+/- 0.01369) [AdaBoostClassifier]\n",
      "ROC_AUC scoring: 0.76679 (+/- 0.00864) [MLPClassifier]\n",
      "ROC_AUC scoring: 0.76044 (+/- 0.02162) [GradientBoosting]\n",
      "ROC_AUC scoring: 0.76406 (+/- 0.01308) [SGDClassifier]\n",
      "ROC_AUC scoring: 0.76332 (+/- 0.01284) [LogisticRegression]\n",
      "ROC_AUC scoring: 0.75626 (+/- 0.01095) [LogisticRegressionCV]\n"
     ]
    },
    {
     "name": "stderr",
     "output_type": "stream",
     "text": [
      "C:\\Users\\User\\Anaconda3\\lib\\site-packages\\sklearn\\discriminant_analysis.py:682: UserWarning: Variables are collinear\n",
      "  warnings.warn(\"Variables are collinear\")\n",
      "C:\\Users\\User\\Anaconda3\\lib\\site-packages\\sklearn\\discriminant_analysis.py:682: UserWarning: Variables are collinear\n",
      "  warnings.warn(\"Variables are collinear\")\n",
      "C:\\Users\\User\\Anaconda3\\lib\\site-packages\\sklearn\\discriminant_analysis.py:682: UserWarning: Variables are collinear\n",
      "  warnings.warn(\"Variables are collinear\")\n",
      "C:\\Users\\User\\Anaconda3\\lib\\site-packages\\sklearn\\discriminant_analysis.py:682: UserWarning: Variables are collinear\n",
      "  warnings.warn(\"Variables are collinear\")\n",
      "C:\\Users\\User\\Anaconda3\\lib\\site-packages\\sklearn\\discriminant_analysis.py:682: UserWarning: Variables are collinear\n",
      "  warnings.warn(\"Variables are collinear\")\n"
     ]
    },
    {
     "name": "stdout",
     "output_type": "stream",
     "text": [
      "ROC_AUC scoring: 0.74222 (+/- 0.01146) [QuadraticDiscriminantAnalysis]\n",
      "ROC_AUC scoring: 0.68714 (+/- 0.01507) [GaussianNB]\n"
     ]
    },
    {
     "name": "stderr",
     "output_type": "stream",
     "text": [
      "C:\\Users\\User\\Anaconda3\\lib\\site-packages\\sklearn\\discriminant_analysis.py:388: UserWarning: Variables are collinear.\n",
      "  warnings.warn(\"Variables are collinear.\")\n",
      "C:\\Users\\User\\Anaconda3\\lib\\site-packages\\sklearn\\discriminant_analysis.py:388: UserWarning: Variables are collinear.\n",
      "  warnings.warn(\"Variables are collinear.\")\n",
      "C:\\Users\\User\\Anaconda3\\lib\\site-packages\\sklearn\\discriminant_analysis.py:388: UserWarning: Variables are collinear.\n",
      "  warnings.warn(\"Variables are collinear.\")\n",
      "C:\\Users\\User\\Anaconda3\\lib\\site-packages\\sklearn\\discriminant_analysis.py:388: UserWarning: Variables are collinear.\n",
      "  warnings.warn(\"Variables are collinear.\")\n",
      "C:\\Users\\User\\Anaconda3\\lib\\site-packages\\sklearn\\discriminant_analysis.py:388: UserWarning: Variables are collinear.\n",
      "  warnings.warn(\"Variables are collinear.\")\n"
     ]
    },
    {
     "name": "stdout",
     "output_type": "stream",
     "text": [
      "ROC_AUC scoring: 0.49560 (+/- 0.00910) [LinearDiscriminantAnalysis]\n",
      "ROC_AUC scoring: 0.77892 (+/- 0.02120) [SVC]\n"
     ]
    },
    {
     "name": "stderr",
     "output_type": "stream",
     "text": [
      "C:\\Users\\User\\Anaconda3\\lib\\site-packages\\sklearn\\discriminant_analysis.py:682: UserWarning: Variables are collinear\n",
      "  warnings.warn(\"Variables are collinear\")\n",
      "C:\\Users\\User\\Anaconda3\\lib\\site-packages\\sklearn\\discriminant_analysis.py:388: UserWarning: Variables are collinear.\n",
      "  warnings.warn(\"Variables are collinear.\")\n",
      "C:\\Users\\User\\Anaconda3\\lib\\site-packages\\sklearn\\discriminant_analysis.py:510: RuntimeWarning: overflow encountered in exp\n",
      "  np.exp(prob, prob)\n",
      "C:\\Users\\User\\Anaconda3\\lib\\site-packages\\sklearn\\discriminant_analysis.py:682: UserWarning: Variables are collinear\n",
      "  warnings.warn(\"Variables are collinear\")\n",
      "C:\\Users\\User\\Anaconda3\\lib\\site-packages\\sklearn\\discriminant_analysis.py:388: UserWarning: Variables are collinear.\n",
      "  warnings.warn(\"Variables are collinear.\")\n",
      "C:\\Users\\User\\Anaconda3\\lib\\site-packages\\sklearn\\discriminant_analysis.py:510: RuntimeWarning: overflow encountered in exp\n",
      "  np.exp(prob, prob)\n",
      "C:\\Users\\User\\Anaconda3\\lib\\site-packages\\sklearn\\discriminant_analysis.py:682: UserWarning: Variables are collinear\n",
      "  warnings.warn(\"Variables are collinear\")\n",
      "C:\\Users\\User\\Anaconda3\\lib\\site-packages\\sklearn\\discriminant_analysis.py:388: UserWarning: Variables are collinear.\n",
      "  warnings.warn(\"Variables are collinear.\")\n",
      "C:\\Users\\User\\Anaconda3\\lib\\site-packages\\sklearn\\discriminant_analysis.py:510: RuntimeWarning: overflow encountered in exp\n",
      "  np.exp(prob, prob)\n",
      "C:\\Users\\User\\Anaconda3\\lib\\site-packages\\sklearn\\discriminant_analysis.py:682: UserWarning: Variables are collinear\n",
      "  warnings.warn(\"Variables are collinear\")\n",
      "C:\\Users\\User\\Anaconda3\\lib\\site-packages\\sklearn\\discriminant_analysis.py:388: UserWarning: Variables are collinear.\n",
      "  warnings.warn(\"Variables are collinear.\")\n",
      "C:\\Users\\User\\Anaconda3\\lib\\site-packages\\sklearn\\discriminant_analysis.py:510: RuntimeWarning: overflow encountered in exp\n",
      "  np.exp(prob, prob)\n",
      "C:\\Users\\User\\Anaconda3\\lib\\site-packages\\sklearn\\discriminant_analysis.py:682: UserWarning: Variables are collinear\n",
      "  warnings.warn(\"Variables are collinear\")\n",
      "C:\\Users\\User\\Anaconda3\\lib\\site-packages\\sklearn\\discriminant_analysis.py:388: UserWarning: Variables are collinear.\n",
      "  warnings.warn(\"Variables are collinear.\")\n",
      "C:\\Users\\User\\Anaconda3\\lib\\site-packages\\sklearn\\discriminant_analysis.py:510: RuntimeWarning: overflow encountered in exp\n",
      "  np.exp(prob, prob)\n"
     ]
    },
    {
     "name": "stdout",
     "output_type": "stream",
     "text": [
      "ROC_AUC scoring: 0.84265 (+/- 0.01061) [Ensemble]\n"
     ]
    }
   ],
   "source": [
    "#Проверяем точность на тестовых данных и забираем ансамбль из функции проверки\n",
    "eclf = soft_voting(df_res, y)"
   ]
  },
  {
   "cell_type": "code",
   "execution_count": 33,
   "metadata": {
    "collapsed": true
   },
   "outputs": [],
   "source": [
    "##Готовим тестовые данные\n",
    "#Если указано имя дарителя пиццы ставим 1, если нет 0\n",
    "test_df.loc[test_df.giver_username_if_known == 'N/A', 'giver_username_if_known'] = 0\n",
    "test_df.loc[test_df.giver_username_if_known != 0, 'giver_username_if_known'] = 1\n",
    "#Переводим в из объекта в цифровой тип\n",
    "test_df['giver_username_if_known'] = pd.to_numeric(test_df['giver_username_if_known'], errors='coerse')\n",
    "#Вместо двух колонок времени, формируем одну - есть \"ошибка\" в настройках компьютера пользователя или нет\n",
    "test_df['time_delta'] = test_df['unix_timestamp_of_request'] - test_df['unix_timestamp_of_request_utc']\n",
    "#Удаляем ненужные колонки времени\n",
    "remove = ['unix_timestamp_of_request', 'unix_timestamp_of_request_utc']\n",
    "for rem in remove:\n",
    "    del test_df[rem]\n",
    "#Размечаем группы на тестовых данных в которых находились только получатели пиццы в обучающей выборке\n",
    "for gr in positive_result_groups:\n",
    "    test_df[gr] = 0\n",
    "for ind in test_df.index:\n",
    "    for word in train_df.requester_subreddits_at_request[ind]:\n",
    "        if word in positive_result_groups:\n",
    "            train_df.at[ind, word] = 1\n",
    "#Формируем дополнительные признаки на основе имеющегося текста из 'request_text_edit_aware'\n",
    "test_df['text_length'] = test_df['request_text_edit_aware'].apply(lambda x: text_length(x))\n",
    "test_df['title_length'] = test_df['request_title'].apply(lambda x: text_length(x))\n",
    "test_df['photos_number'] = test_df['request_text_edit_aware'].apply(lambda x: photos(x))\n",
    "test_df['text_was_edited'] = test_df['request_text_edit_aware'].apply(lambda x: edited_text(x))\n",
    "test_df['negative_words'] = test_df['request_text_edit_aware'].apply(lambda x: text_produce(x, negative_list))\n",
    "test_df['politeness_words'] = test_df['request_text_edit_aware'].apply(lambda x: text_produce(x, politeness_list))\n",
    "test_df['reciprocity_words'] = test_df['request_text_edit_aware'].apply(lambda x: text_produce(x, reciprocity_list))\n",
    "test_df['driver_words'] = test_df['request_text_edit_aware'].apply(lambda x: text_produce(x, driver_list))\n",
    "test_df['job_words'] = test_df['request_text_edit_aware'].apply(lambda x: text_produce(x, job_list))\n",
    "test_df['money_words'] = test_df['request_text_edit_aware'].apply(lambda x: text_produce(x, money_list))\n",
    "test_df['student_words'] = test_df['request_text_edit_aware'].apply(lambda x: text_produce(x, student_list))\n",
    "test_df['craving_words'] = test_df['request_text_edit_aware'].apply(lambda x: text_produce(x, craving_list))\n",
    "test_df['time_words'] = test_df['request_text_edit_aware'].apply(lambda x: text_produce(x, time_list))\n",
    "test_df['family_words'] = test_df['request_text_edit_aware'].apply(lambda x: text_produce(x, family_list))\n",
    "#Определяем числовые колонки и формируем тренировочный фрейм для работы\n",
    "numerical_columns   = [c for c in test_df.columns if test_df[c].dtype.name != 'object']\n",
    "df_test = test_df[numerical_columns]"
   ]
  },
  {
   "cell_type": "code",
   "execution_count": 34,
   "metadata": {
    "collapsed": true
   },
   "outputs": [],
   "source": [
    "quantile = preprocessing.QuantileTransformer()\n",
    "df_test = quantile.fit_transform(df_test)\n",
    "df_res = quantile.fit_transform(df_res)"
   ]
  },
  {
   "cell_type": "code",
   "execution_count": 35,
   "metadata": {},
   "outputs": [
    {
     "name": "stderr",
     "output_type": "stream",
     "text": [
      "C:\\Users\\User\\Anaconda3\\lib\\site-packages\\sklearn\\discriminant_analysis.py:682: UserWarning: Variables are collinear\n",
      "  warnings.warn(\"Variables are collinear\")\n",
      "C:\\Users\\User\\Anaconda3\\lib\\site-packages\\sklearn\\discriminant_analysis.py:388: UserWarning: Variables are collinear.\n",
      "  warnings.warn(\"Variables are collinear.\")\n"
     ]
    },
    {
     "name": "stdout",
     "output_type": "stream",
     "text": [
      "[0 0 0 ..., 0 0 0]\n"
     ]
    }
   ],
   "source": [
    "eclf.fit(df_res, y)\n",
    "result = eclf.predict(df_test)\n",
    "print(result)"
   ]
  },
  {
   "cell_type": "code",
   "execution_count": 44,
   "metadata": {},
   "outputs": [],
   "source": [
    "temp = list(zip(test_df['request_id'].tolist(), result))"
   ]
  },
  {
   "cell_type": "code",
   "execution_count": 50,
   "metadata": {},
   "outputs": [],
   "source": [
    "import csv\n",
    "with open('Data//' + 'csvfile.csv', \"w\") as output:\n",
    "    writer = csv.writer(output, lineterminator='\\n')\n",
    "    writer.writerow(['request_id','requester_received_pizza'])\n",
    "    writer.writerows(temp)"
   ]
  }
 ],
 "metadata": {
  "kernelspec": {
   "display_name": "Python 3",
   "language": "python",
   "name": "python3"
  },
  "language_info": {
   "codemirror_mode": {
    "name": "ipython",
    "version": 3
   },
   "file_extension": ".py",
   "mimetype": "text/x-python",
   "name": "python",
   "nbconvert_exporter": "python",
   "pygments_lexer": "ipython3",
   "version": "3.6.3"
  }
 },
 "nbformat": 4,
 "nbformat_minor": 2
}
